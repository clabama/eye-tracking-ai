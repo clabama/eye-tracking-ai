{
 "cells": [
  {
   "cell_type": "markdown",
   "metadata": {},
   "source": [
    "# Confirmatory analysis walkthrough\n",
    "\n",
    "This notebook demonstrates how to move from exploratory calculations to a confirmatory analysis workflow using the new reusable modules."
   ]
  },
  {
   "cell_type": "code",
   "execution_count": null,
   "metadata": {},
   "outputs": [],
   "source": [
    "from pathlib import Path\n",
    "\n",
    "import pandas as pd\n",
    "\n",
    "from analysis_pipeline.data_loading import build_metrics_table\n",
    "from analysis_pipeline.hierarchy import build_hierarchical_summary\n",
    "from analysis_pipeline.statistics import run_confirmatory_tests, summarize_pairwise_results\n",
    "from analysis_pipeline.clustering import compute_cluster_profiles"
   ]
  },
  {
   "cell_type": "markdown",
   "metadata": {},
   "source": [
    "## Load metrics and labels\n",
    "\n",
    "Metrics are aggregated per participant and image, then normalised by the full participant pool (49 viewers)."
   ]
  },
  {
   "cell_type": "code",
   "execution_count": null,
   "metadata": {},
   "outputs": [],
   "source": [
    "FIXATIONS_DIR = Path('fixations')\n",
    "LABELS_CSV = Path('labels_per_id.csv')\n",
    "\n",
    "metrics_table = build_metrics_table(FIXATIONS_DIR, LABELS_CSV)\n",
    "metrics_table.head()"
   ]
  },
  {
   "cell_type": "markdown",
   "metadata": {},
   "source": [
    "## Hierarchical summaries\n",
    "\n",
    "Start from all images, then inspect single labels and label combinations."
   ]
  },
  {
   "cell_type": "code",
   "execution_count": null,
   "metadata": {},
   "outputs": [],
   "source": [
    "summary = build_hierarchical_summary(metrics_table)\n",
    "baseline = summary['baseline'].summary\n",
    "single_labels = summary['single_labels'].summary\n",
    "label_combinations = summary['label_combinations'].summary\n",
    "\n",
    "baseline"
   ]
  },
  {
   "cell_type": "code",
   "execution_count": null,
   "metadata": {},
   "outputs": [],
   "source": [
    "single_labels"
   ]
  },
  {
   "cell_type": "code",
   "execution_count": null,
   "metadata": {},
   "outputs": [],
   "source": [
    "label_combinations.head()"
   ]
  },
  {
   "cell_type": "markdown",
   "metadata": {},
   "source": [
    "## Confirmatory statistics\n",
    "\n",
    "Run ANOVA/Kruskal-Wallis tests and inspect post-hoc comparisons."
   ]
  },
  {
   "cell_type": "code",
   "execution_count": null,
   "metadata": {},
   "outputs": [],
   "source": [
    "tests = run_confirmatory_tests(metrics_table, group_column='label_combo')\n",
    "tests['fixation_count']['anova']"
   ]
  },
  {
   "cell_type": "code",
   "execution_count": null,
   "metadata": {},
   "outputs": [],
   "source": [
    "pairwise = summarize_pairwise_results(tests['fixation_count']['pairwise_parametric'])\n",
    "pairwise.sort_values('pvalue_adj').head()"
   ]
  },
  {
   "cell_type": "markdown",
   "metadata": {},
   "source": [
    "## Clustering\n",
    "\n",
    "Use PCA + k-means to see whether label combinations form metric-based clusters."
   ]
  },
  {
   "cell_type": "code",
   "execution_count": null,
   "metadata": {},
   "outputs": [],
   "source": [
    "cluster_output = compute_cluster_profiles(metrics_table, n_components=2, n_clusters=3)\n",
    "cluster_output.pca_components.head()"
   ]
  }
 ],
 "metadata": {
  "kernelspec": {
   "display_name": "Python 3",
   "language": "python",
   "name": "python3"
  },
  "language_info": {
   "name": "python",
   "pygments_lexer": "ipython3"
  }
 },
 "nbformat": 4,
 "nbformat_minor": 5
}
